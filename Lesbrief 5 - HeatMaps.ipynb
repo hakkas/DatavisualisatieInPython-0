{
 "cells": [
  {
   "cell_type": "markdown",
   "metadata": {},
   "source": [
    "# Heatmaps maken met Folium"
   ]
  },
  {
   "cell_type": "markdown",
   "metadata": {},
   "source": [
    "Folium is een Python-library waarmee je allerlei kaartgebaseerde visualisaties kunt maken. Je kunt het downloaden door in Jupyter Notebook het volgende commando in te geven:\n",
    "\n",
    "```!pip install folium```\n",
    "\n",
    "Laten we dat even gaan doen:"
   ]
  },
  {
   "cell_type": "code",
   "execution_count": 2,
   "metadata": {},
   "outputs": [
    {
     "name": "stdout",
     "output_type": "stream",
     "text": [
      "Collecting folium\n",
      "  Downloading folium-0.5.0.tar.gz (79kB)\n",
      "\u001b[K    100% |████████████████████████████████| 81kB 1.2MB/s ta 0:00:011\n",
      "\u001b[?25hCollecting branca (from folium)\n",
      "  Downloading branca-0.2.0-py3-none-any.whl\n",
      "Requirement already satisfied: jinja2 in /home/nbuser/anaconda3_420/lib/python3.5/site-packages (from folium)\n",
      "Requirement already satisfied: requests in /home/nbuser/anaconda3_420/lib/python3.5/site-packages (from folium)\n",
      "Requirement already satisfied: six in /home/nbuser/anaconda3_420/lib/python3.5/site-packages (from folium)\n",
      "Requirement already satisfied: MarkupSafe in /home/nbuser/anaconda3_420/lib/python3.5/site-packages (from jinja2->folium)\n",
      "Building wheels for collected packages: folium\n",
      "  Running setup.py bdist_wheel for folium ... \u001b[?25ldone\n",
      "\u001b[?25h  Stored in directory: /home/nbuser/.cache/pip/wheels/04/d0/a0/b2b8356443364ae79743fce0b9b6a5b045f7560742129fde22\n",
      "Successfully built folium\n",
      "Installing collected packages: branca, folium\n",
      "Successfully installed branca-0.2.0 folium-0.5.0\n"
     ]
    }
   ],
   "source": [
    "!pip install folium"
   ]
  },
  {
   "cell_type": "markdown",
   "metadata": {},
   "source": [
    "Als het goed is, is Folium nu geinstalleerd. Laten we het nu gebruiken:"
   ]
  },
  {
   "cell_type": "code",
   "execution_count": 22,
   "metadata": {
    "scrolled": true
   },
   "outputs": [
    {
     "data": {
      "text/html": [
       "<div style=\"width:100%;\"><div style=\"position:relative;width:100%;height:0;padding-bottom:60%;\"><iframe src=\"data:text/html;charset=utf-8;base64,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\" style=\"position:absolute;width:100%;height:100%;left:0;top:0;border:none !important;\" allowfullscreen webkitallowfullscreen mozallowfullscreen></iframe></div></div>"
      ],
      "text/plain": [
       "<folium.folium.Map at 0x7f8c406ea198>"
      ]
     },
     "execution_count": 22,
     "metadata": {},
     "output_type": "execute_result"
    }
   ],
   "source": [
    "import folium\n",
    "mijnMap = folium.Map(location=[52.361718, 4.918390])\n",
    "mijnMap"
   ]
  },
  {
   "cell_type": "markdown",
   "metadata": {},
   "source": [
    "_Uitleg:_\n",
    "* We importeren eerst de library folium. Zorg er wel voor dat je folium van te voren goed hebt geïnstalleerd. Dit kan met het commando pip install folium\n",
    "* Vervolgens maken we een kaart met als centraal punt de coördinatoren 52.361718 en 4.918390. Meer over coördinaten op de aardbol volgt hieronder.\n",
    "* Uiteindelijk tonen we de kaart op het scherm"
   ]
  },
  {
   "cell_type": "markdown",
   "metadata": {},
   "source": [
    "## Coördinaten op de wereldbol\n",
    "Die 52.361718 en 4.918390 .. Wat zijn dat voor getallen? Nou, we gaan eventjes terug naar de Wiskundeles. Weet je nog hoe je een punt in een tweedimensionaal assenstelsel aangeeft? Dan moet je een x en een y hebben. In het plaatje hieronder zit de roze stip dus op punt (4,2). Met een x en een y kun je elke plek in zo'n assenstelsel aanduiden.\n",
    "<img src=\"files/assenstelsel.png\">\n",
    "\n",
    "Maar hoe zit dat met een punt op de aarde? Kan dat ook met een x en een y? Als de aarde plat zou zijn, dan zou dat inderdaad kunnen. Maar de aarde is niet plat en vandaar dat we dit anders moeten aanpakken. We hebben met ons bolvormige planeet een ander coördinatensysteem nodig om elk punt aan te duiden: we moeten met lengtegraad (longitude) en breedtegraad (latitude) werken. \n",
    "\n",
    "<img src=\"files/lnglgt.png\">\n",
    "\n",
    "De details over dit systeem zullen we jullie besparen. Ben je toch benieuwd, kijk dan bijvoorbeeld naar dit filmpje: https://www.youtube.com/watch?v=SQh8gxuQ-QQ. Ook verwijzen we je graag naar jullie Aardrijkskundedocent die hier vast-en-zeker meer over kan vertellen :) \n",
    "\n",
    "### Opdracht\n",
    "* Wat bevindt zich op de coordinaten 52.361718 en 4.918390?\n",
    "* Vind via Google Maps (of een ander programma) de coördinaten van jouw huis."
   ]
  },
  {
   "cell_type": "markdown",
   "metadata": {},
   "source": [
    "## Bijenkorven in Amsterdam\n",
    "We hebben een bestand met alle locaties van bijenkorven in Amsterdam. Hier kun je hem downloaden: https://drive.google.com/file/d/0B-PCvKu5Uw4QM01uQzhidW5ieVE/view! Voeg dit bestand toe aan je Library, zoals je games.csv ook had toegevoegd aan je Library.\n",
    "\n",
    "Deze dataset heeft vier kolommen: ```OBJECTNUMMER```, ```COORDS```, ```LNG``` en ```LAT```\n",
    "De eerste twee kolommen laten we met rust. De derde en vierde kolom zijn interessant voor ons. LNG staat voor Longitude (lengtegraad) en LAT staat voor Latitude (breedtegraad).\n",
    "\n",
    "Wat gaan we hiermee doen? We gaan een heatmap maken van alle bijenkorven in Amsterdam.\n",
    "Dit doen we volgens het volgende stappenplan:\n",
    "* Eerst de benodigde libraries importeren en vervolgens het bestand inlezen in een DataFrame. Zie hieronder:"
   ]
  },
  {
   "cell_type": "code",
   "execution_count": 14,
   "metadata": {},
   "outputs": [],
   "source": [
    "import folium\n",
    "import pandas as pd\n",
    "from folium.plugins import HeatMap\n",
    "\n",
    "\n",
    "dfBijen = pd.read_csv(\"honingbijen.csv\")"
   ]
  },
  {
   "cell_type": "markdown",
   "metadata": {},
   "source": [
    "* Vervolgens maken we een map aan met in het middelpunt een locatie in Amsterdam naar keuze. Ik heb gekozen voor mijn favoriete locatie! Stel ook naar wens een zoomfactor in."
   ]
  },
  {
   "cell_type": "code",
   "execution_count": 15,
   "metadata": {},
   "outputs": [],
   "source": [
    "map = folium.Map(location=[52.370304,4.918527], zoom_start=10)"
   ]
  },
  {
   "cell_type": "markdown",
   "metadata": {},
   "source": [
    "* Vervolgens selecteren we uit de DataFrame onze gewenste kolommen en zetten we de inhoud van de DataFrame dfBijenLocaties met de twee kolommen LAT en LNG(denk om de volgorde!!) om naar een doodgewone Python list. "
   ]
  },
  {
   "cell_type": "code",
   "execution_count": 16,
   "metadata": {},
   "outputs": [],
   "source": [
    "kolommen = [\"LAT\", \"LNG\"]\n",
    "dfBijenLocaties = dfBijen[kolommen]\n",
    "bijenkorvenLijst = dfBijenLocaties.values.tolist()"
   ]
  },
  {
   "cell_type": "markdown",
   "metadata": {},
   "source": [
    "* Uiteindelijk zetten we de lijst om naar een HeatMap en voegen we deze toe aan onze map. We slaan het bestand op als bijenkorven.html en we tonen hem ook op het scherm."
   ]
  },
  {
   "cell_type": "code",
   "execution_count": 21,
   "metadata": {},
   "outputs": [
    {
     "data": {
      "text/html": [
       "<div style=\"width:100%;\"><div style=\"position:relative;width:100%;height:0;padding-bottom:60%;\"><iframe src=\"data:text/html;charset=utf-8;base64,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\" style=\"position:absolute;width:100%;height:100%;left:0;top:0;border:none !important;\" allowfullscreen webkitallowfullscreen mozallowfullscreen></iframe></div></div>"
      ],
      "text/plain": [
       "<folium.folium.Map at 0x7f8c406d0da0>"
      ]
     },
     "execution_count": 21,
     "metadata": {},
     "output_type": "execute_result"
    }
   ],
   "source": [
    "map.add_child(HeatMap(bijenkorvenLijst))\n",
    "map.save(outfile='bijenkorven.html')\n",
    "map"
   ]
  },
  {
   "cell_type": "markdown",
   "metadata": {},
   "source": [
    "De gehele code is als volgt:"
   ]
  },
  {
   "cell_type": "code",
   "execution_count": 20,
   "metadata": {},
   "outputs": [
    {
     "data": {
      "text/html": [
       "<div style=\"width:100%;\"><div style=\"position:relative;width:100%;height:0;padding-bottom:60%;\"><iframe src=\"data:text/html;charset=utf-8;base64,PCFET0NUWVBFIGh0bWw+CjxoZWFkPiAgICAKICAgIDxtZXRhIGh0dHAtZXF1aXY9ImNvbnRlbnQtdHlwZSIgY29udGVudD0idGV4dC9odG1sOyBjaGFyc2V0PVVURi04IiAvPgogICAgPHNjcmlwdD5MX1BSRUZFUl9DQU5WQVMgPSBmYWxzZTsgTF9OT19UT1VDSCA9IGZhbHNlOyBMX0RJU0FCTEVfM0QgPSBmYWxzZTs8L3NjcmlwdD4KICAgIDxzY3JpcHQgc3JjPSJodHRwczovL2Nkbi5qc2RlbGl2ci5uZXQvbnBtL2xlYWZsZXRAMS4yLjAvZGlzdC9sZWFmbGV0LmpzIj48L3NjcmlwdD4KICAgIDxzY3JpcHQgc3JjPSJodHRwczovL2FqYXguZ29vZ2xlYXBpcy5jb20vYWpheC9saWJzL2pxdWVyeS8xLjExLjEvanF1ZXJ5Lm1pbi5qcyI+PC9zY3JpcHQ+CiAgICA8c2NyaXB0IHNyYz0iaHR0cHM6Ly9tYXhjZG4uYm9vdHN0cmFwY2RuLmNvbS9ib290c3RyYXAvMy4yLjAvanMvYm9vdHN0cmFwLm1pbi5qcyI+PC9zY3JpcHQ+CiAgICA8c2NyaXB0IHNyYz0iaHR0cHM6Ly9jZG5qcy5jbG91ZGZsYXJlLmNvbS9hamF4L2xpYnMvTGVhZmxldC5hd2Vzb21lLW1hcmtlcnMvMi4wLjIvbGVhZmxldC5hd2Vzb21lLW1hcmtlcnMuanMiPjwvc2NyaXB0PgogICAgPGxpbmsgcmVsPSJzdHlsZXNoZWV0IiBocmVmPSJodHRwczovL2Nkbi5qc2RlbGl2ci5uZXQvbnBtL2xlYWZsZXRAMS4yLjAvZGlzdC9sZWFmbGV0LmNzcyIgLz4KICAgIDxsaW5rIHJlbD0ic3R5bGVzaGVldCIgaHJlZj0iaHR0cHM6Ly9tYXhjZG4uYm9vdHN0cmFwY2RuLmNvbS9ib290c3RyYXAvMy4yLjAvY3NzL2Jvb3RzdHJhcC5taW4uY3NzIiAvPgogICAgPGxpbmsgcmVsPSJzdHlsZXNoZWV0IiBocmVmPSJodHRwczovL21heGNkbi5ib290c3RyYXBjZG4uY29tL2Jvb3RzdHJhcC8zLjIuMC9jc3MvYm9vdHN0cmFwLXRoZW1lLm1pbi5jc3MiIC8+CiAgICA8bGluayByZWw9InN0eWxlc2hlZXQiIGhyZWY9Imh0dHBzOi8vbWF4Y2RuLmJvb3RzdHJhcGNkbi5jb20vZm9udC1hd2Vzb21lLzQuNi4zL2Nzcy9mb250LWF3ZXNvbWUubWluLmNzcyIgLz4KICAgIDxsaW5rIHJlbD0ic3R5bGVzaGVldCIgaHJlZj0iaHR0cHM6Ly9jZG5qcy5jbG91ZGZsYXJlLmNvbS9hamF4L2xpYnMvTGVhZmxldC5hd2Vzb21lLW1hcmtlcnMvMi4wLjIvbGVhZmxldC5hd2Vzb21lLW1hcmtlcnMuY3NzIiAvPgogICAgPGxpbmsgcmVsPSJzdHlsZXNoZWV0IiBocmVmPSJodHRwczovL3Jhd2dpdC5jb20vcHl0aG9uLXZpc3VhbGl6YXRpb24vZm9saXVtL21hc3Rlci9mb2xpdW0vdGVtcGxhdGVzL2xlYWZsZXQuYXdlc29tZS5yb3RhdGUuY3NzIiAvPgogICAgPHN0eWxlPmh0bWwsIGJvZHkge3dpZHRoOiAxMDAlO2hlaWdodDogMTAwJTttYXJnaW46IDA7cGFkZGluZzogMDt9PC9zdHlsZT4KICAgIDxzdHlsZT4jbWFwIHtwb3NpdGlvbjphYnNvbHV0ZTt0b3A6MDtib3R0b206MDtyaWdodDowO2xlZnQ6MDt9PC9zdHlsZT4KICAgIAogICAgICAgICAgICA8c3R5bGU+ICNtYXBfYmMxY2QzOTA0ZjY3NGFhMGE2NGZhNWMzNTE1OWU5MWMgewogICAgICAgICAgICAgICAgcG9zaXRpb24gOiByZWxhdGl2ZTsKICAgICAgICAgICAgICAgIHdpZHRoIDogMTAwLjAlOwogICAgICAgICAgICAgICAgaGVpZ2h0OiAxMDAuMCU7CiAgICAgICAgICAgICAgICBsZWZ0OiAwLjAlOwogICAgICAgICAgICAgICAgdG9wOiAwLjAlOwogICAgICAgICAgICAgICAgfQogICAgICAgICAgICA8L3N0eWxlPgogICAgICAgIAogICAgPHNjcmlwdCBzcmM9Imh0dHBzOi8vbGVhZmxldC5naXRodWIuaW8vTGVhZmxldC5oZWF0L2Rpc3QvbGVhZmxldC1oZWF0LmpzIj48L3NjcmlwdD4KPC9oZWFkPgo8Ym9keT4gICAgCiAgICAKICAgICAgICAgICAgPGRpdiBjbGFzcz0iZm9saXVtLW1hcCIgaWQ9Im1hcF9iYzFjZDM5MDRmNjc0YWEwYTY0ZmE1YzM1MTU5ZTkxYyIgPjwvZGl2PgogICAgICAgIAo8L2JvZHk+CjxzY3JpcHQ+ICAgIAogICAgCgogICAgICAgICAgICAKICAgICAgICAgICAgICAgIHZhciBib3VuZHMgPSBudWxsOwogICAgICAgICAgICAKCiAgICAgICAgICAgIHZhciBtYXBfYmMxY2QzOTA0ZjY3NGFhMGE2NGZhNWMzNTE1OWU5MWMgPSBMLm1hcCgKICAgICAgICAgICAgICAgICAgICAgICAgICAgICAgICAgICdtYXBfYmMxY2QzOTA0ZjY3NGFhMGE2NGZhNWMzNTE1OWU5MWMnLAogICAgICAgICAgICAgICAgICAgICAgICAgICAgICAgICAge2NlbnRlcjogWzUyLjM3MDMwNCw0LjkxODUyN10sCiAgICAgICAgICAgICAgICAgICAgICAgICAgICAgICAgICB6b29tOiAxMCwKICAgICAgICAgICAgICAgICAgICAgICAgICAgICAgICAgIG1heEJvdW5kczogYm91bmRzLAogICAgICAgICAgICAgICAgICAgICAgICAgICAgICAgICAgbGF5ZXJzOiBbXSwKICAgICAgICAgICAgICAgICAgICAgICAgICAgICAgICAgIHdvcmxkQ29weUp1bXA6IGZhbHNlLAogICAgICAgICAgICAgICAgICAgICAgICAgICAgICAgICAgY3JzOiBMLkNSUy5FUFNHMzg1NwogICAgICAgICAgICAgICAgICAgICAgICAgICAgICAgICB9KTsKICAgICAgICAgICAgCiAgICAgICAgCiAgICAKICAgICAgICAgICAgdmFyIHRpbGVfbGF5ZXJfMTk0Y2NhNGM1YmM1NDAxOGJkZTc0ZjYzMmE4NzIxY2YgPSBMLnRpbGVMYXllcigKICAgICAgICAgICAgICAgICdodHRwczovL3tzfS50aWxlLm9wZW5zdHJlZXRtYXAub3JnL3t6fS97eH0ve3l9LnBuZycsCiAgICAgICAgICAgICAgICB7CiAgImF0dHJpYnV0aW9uIjogbnVsbCwKICAiZGV0ZWN0UmV0aW5hIjogZmFsc2UsCiAgIm1heFpvb20iOiAxOCwKICAibWluWm9vbSI6IDEsCiAgIm5vV3JhcCI6IGZhbHNlLAogICJzdWJkb21haW5zIjogImFiYyIKfQogICAgICAgICAgICAgICAgKS5hZGRUbyhtYXBfYmMxY2QzOTA0ZjY3NGFhMGE2NGZhNWMzNTE1OWU5MWMpOwogICAgICAgIAogICAgCiAgICAgICAgICAgIHZhciBoZWF0X21hcF9mM2QwNjg2YzZjMjg0NjdmYjVjZjc2YzEwZTUxYzA2NCA9IEwuaGVhdExheWVyKAogICAgICAgICAgICAgICAgW1s1Mi4zNjcyNjgsIDQuOTAxMDEzXSwgWzUyLjM2MDM4MSwgNC45MDQ4MTY5OTk5OTk5OTk1XSwgWzUyLjM2NDYxNiwgNC45MTYzN10sIFs1Mi4zODUwOTA5OTk5OTk5OTYsIDQuODc3NTk2XSwgWzUyLjM4MywgNC44Njc5N10sIFs1Mi4zNzUwOTgsIDQuODQ5NDg2XSwgWzUyLjM3MDc4NywgNC44NTYxMDJdLCBbNTIuMzM0OTYzLCA0LjgzNjQ1OV0sIFs1Mi4zNTU5MDkwMDAwMDAwMDQsIDQuODY1MzUxXSwgWzUyLjMzNTg2MiwgNC44NzQ1OTQ5OTk5OTk5OTldLCBbNTIuMzIzMjk2LCA0Ljg5MzM5N10sIFs1Mi4zNTY2NzgsIDQuOTczNzldLCBbNTIuMzk2NjExLCA0LjkxMTc0XSwgWzUyLjQyMTgyODAwMDAwMDAwNSwgNC44ODA5MzddLCBbNTIuNDAxNTg4MDAwMDAwMDA0LCA0LjkwMjQ3NF0sIFs1Mi4zOTk5MzIsIDQuOTA4NTE2MDAwMDAwMDAwNV0sIFs1Mi4zODMyOTksIDQuOTIwNDldLCBbNTIuMzg2NzgsIDQuOTYxOTM0OTk5OTk5OTk5NV0sIFs1Mi4zMDI3MTcsIDQuOTUzNzM2XSwgWzUyLjQwNTAxOCwgNC45MjYzNzVdLCBbNTIuMzc2MzY5LCA0LjkwMDIyM10sIFs1Mi4zNjAwNjEsIDQuNzgzOTU5OTk5OTk5OTk5NV0sIFs1Mi4zNzkwOTY5OTk5OTk5OTQsIDQuNzcxNzAxOTk5OTk5OTk5XSwgWzUyLjM3NDcyMjk5OTk5OTk5NiwgNC43Nzc0NDZdLCBbNTIuMzg3NjQ2OTk5OTk5OTk0LCA0Ljg2NjA5NF0sIFs1Mi4zMzYyNzUsIDQuODc0NTc2XSwgWzUyLjMzMzAwMzAwMDAwMDAwNSwgNC45MTU1NDZdLCBbNTIuMzQ5NzIsIDQuOTI4MzU3XSwgWzUyLjM0OTE3NzAwMDAwMDAwNSwgNC44OTI2NTVdLCBbNTIuMzYwMTU4LCA0LjgzNTIwN10sIFs1Mi4zNjk4NTcsIDQuOTI4MjIyXSwgWzUyLjM2Mzk4MSwgNC44ODIyODddLCBbNTIuMzY1MjMzLCA0Ljg4OTM2NF0sIFs1Mi4zODcxMjYsIDQuODY0MTkxXSwgWzUyLjMyNzUsIDQuOTg4MjldLCBbNTIuMzExMTgxLCA0Ljk5OTgwMTAwMDAwMDAwMV0sIFs1Mi4zODYxNDA5OTk5OTk5OTUsIDQuODY4OTc2XSwgWzUyLjM2NjY3Mzk5OTk5OTk5NiwgNC45MDc0NjVdLCBbNTIuMzA1Njg2LCA0Ljk3MjE4MV0sIFs1Mi4zNzY3NDYwMDAwMDAwMDQsIDQuOTg2NTU1XSwgWzUyLjM4NTEyNzAwMDAwMDAwNCwgNC45NTQ2NV0sIFs1Mi4zNTIxNzgsIDQuOTI5MTIzMDAwMDAwMDAxXSwgWzUyLjM4NDQzNDAwMDAwMDAwNiwgNC44NTA5XSwgWzUyLjM3Njg0MSwgNC44NTMzMTJdLCBbNTIuMzgxMzE1LCA0LjkxMjA4MDAwMDAwMDAwMDRdLCBbNTIuMzg3MTE5LCA0Ljg1NDQ2N10sIFs1Mi4zODY1NDI5OTk5OTk5OTYsIDQuODM0NzE2OTk5OTk5OTk5NV0sIFs1Mi40MDE4MjEwMDAwMDAwMDUsIDQuNzQ4NDk0XSwgWzUyLjM5MDI0NSwgNC44MDQzMDddLCBbNTIuNDU3MzU0LCA0Ljc3Mzg4Ml0sIFs1Mi4zNDEwODUsIDQuODE1ODY5XSwgWzUyLjM3MzEwMSwgNC43ODE5MzJdLCBbNTIuMjkwOTcsIDQuODc5MjMxXSwgWzUyLjMyMjI4NiwgNC44OTQ4NDZdLCBbNTIuMzM1MzU4LCA0LjgyODg1NF0sIFs1Mi4zNjkwMTUwMDAwMDAwMDUsIDQuODQzODA0XSwgWzUyLjMyNDczOCwgNC44NTY5MDEwMDAwMDAwMDFdLCBbNTIuMzMxMDM0LCA0LjgwOTgyMjAwMDAwMDAwMDVdLCBbNTIuMzYwMDk4LCA0Ljg2NTY5OF0sIFs1Mi4zNTQwODQsIDQuODk0NjQxXSwgWzUyLjM2ODU2NywgNC44NjQxODldLCBbNTIuMzY4NDkzLCA0Ljg0NTc5MTk5OTk5OTk5OV0sIFs1Mi4yODkyMzcsIDQuOTY0MTU2XSwgWzUyLjM3MTgzNSwgNC45MDE0NzddLCBbNTIuMzY4MzQ0LCA0Ljg4NTQzOF0sIFs1Mi4yMzA2NDcsIDQuODI2MzMwMDAwMDAwMDAwNV0sIFs1Mi4zMDc0MSwgNC44NDg5ODRdLCBbNTIuMjg1OTY1OTk5OTk5OTk1LCA0Ljg2MzEwOF0sIFs1Mi4yNzY1NDgsIDQuODUxMzk0XSwgWzUyLjM0ODQ0OCwgNC45NTY3MzldLCBbNTIuMzQyNzU5LCA0LjkwMTE2NF0sIFs1Mi4zMzgyMzcsIDQuNzk5NzA2XSwgWzUyLjM0MTQzMSwgNC44ODAxMDddLCBbNTIuMzY1MDE1LCA0Ljg1MTY0OV0sIFs1Mi4zNDAzOTUsIDQuOTM4NTk5XSwgWzUyLjM0NTM1OSwgNS4wMDIxXSwgWzUyLjMzNzM0OCwgNC44NzUzMjZdLCBbNTIuMzA5MzY5MDAwMDAwMDA0LCA1LjAwMzU4NV0sIFs1Mi4zNTkwNDEsIDQuOTczNDg5XSwgWzUyLjMxNDQyNCwgNC44MjQ3MTddLCBbNTIuMjg4MDY3LCA0LjgxODAyOV0sIFs1Mi4zNzAzMDQsIDQuOTE4NTI3XSwgWzUyLjM0MTU5OSwgNC44OTQ0MTJdLCBbNTIuMzYyNzU1LCA0Ljg1NjgyOV0sIFs1Mi4zNzIzNDEsIDQuOTY1NTgyXSwgWzUyLjMxNDI5NSwgNC45MDEwNjRdLCBbNTIuMzA0MzE0LCA0Ljg3NjU3MV0sIFs1Mi4yOTYxMTY5OTk5OTk5OTUsIDQuOTAyMjAxXSwgWzUyLjI4MDc3NywgNC44Njg2OTNdLCBbNTIuMzM3NDU1LCA0Ljg5NjMzNl0sIFs1Mi4zNDU5MzcsIDQuODI2ODg2XSwgWzUyLjM0NTQ2NTAwMDAwMDAwNCwgNC44MTQ2NjhdLCBbNTIuNDE4MTIzLCA0Ljg5MzE2NV0sIFs1Mi4zNjU0MzUsIDQuOTE5MDkyXSwgWzUyLjMzMzMwNiwgNC43Njg0NzhdLCBbNTIuNDAzNTExLCA0Ljk2MDgxOV0sIFs1Mi4zNzUwMzEsIDQuNzg1MDE5XSwgWzUyLjQxMDgsIDQuNzUwMzY0XSwgWzUyLjQwMTA3MSwgNC45MzMwODVdLCBbNTIuMzU5NDc2LCA0Ljk5MTAzOV0sIFs1Mi4zODY2NzcsIDQuODQ3NzkzXV0sCiAgICAgICAgICAgICAgICB7CiAgICAgICAgICAgICAgICAgICAgbWluT3BhY2l0eTogMC41LAogICAgICAgICAgICAgICAgICAgIG1heFpvb206IDE4LAogICAgICAgICAgICAgICAgICAgIG1heDogMS4wLAogICAgICAgICAgICAgICAgICAgIHJhZGl1czogMjUsCiAgICAgICAgICAgICAgICAgICAgYmx1cjogMTUsCiAgICAgICAgICAgICAgICAgICAgZ3JhZGllbnQ6IG51bGwKICAgICAgICAgICAgICAgICAgICB9KQogICAgICAgICAgICAgICAgLmFkZFRvKG1hcF9iYzFjZDM5MDRmNjc0YWEwYTY0ZmE1YzM1MTU5ZTkxYyk7CiAgICAgICAgCjwvc2NyaXB0Pg==\" style=\"position:absolute;width:100%;height:100%;left:0;top:0;border:none !important;\" allowfullscreen webkitallowfullscreen mozallowfullscreen></iframe></div></div>"
      ],
      "text/plain": [
       "<folium.folium.Map at 0x7f8c406d0da0>"
      ]
     },
     "execution_count": 20,
     "metadata": {},
     "output_type": "execute_result"
    }
   ],
   "source": [
    "import folium\n",
    "import pandas as pd\n",
    "from folium.plugins import HeatMap\n",
    "\n",
    "dfBijen = pd.read_csv(\"honingbijen.csv\")\n",
    "\n",
    "map = folium.Map(location=[52.370304,4.918527], zoom_start=10)\n",
    "\n",
    "kolommen = [\"LAT\", \"LNG\"]\n",
    "dfBijenLocaties = dfBijen[kolommen]\n",
    "bijenkorvenLijst = dfBijenLocaties.values.tolist()\n",
    "\n",
    "map.add_child(HeatMap(bijenkorvenLijst))\n",
    "\n",
    "map"
   ]
  },
  {
   "cell_type": "markdown",
   "metadata": {},
   "source": [
    "### Opdracht\n",
    "Gebruik de bovenstaande code om een heatmap te maken van alle bijenkorven in Amsterdam."
   ]
  }
 ],
 "metadata": {
  "kernelspec": {
   "display_name": "Python 3",
   "language": "python",
   "name": "python3"
  },
  "language_info": {
   "codemirror_mode": {
    "name": "ipython",
    "version": 3
   },
   "file_extension": ".py",
   "mimetype": "text/x-python",
   "name": "python",
   "nbconvert_exporter": "python",
   "pygments_lexer": "ipython3",
   "version": "3.5.4"
  }
 },
 "nbformat": 4,
 "nbformat_minor": 2
}
