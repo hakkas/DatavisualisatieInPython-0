{
 "cells": [
  {
   "cell_type": "markdown",
   "metadata": {},
   "source": [
    "# Python lijsten"
   ]
  },
  {
   "cell_type": "markdown",
   "metadata": {},
   "source": [
    "Tot nu toe heb je variabelen gebruikt om er vooral getallen(int), tekst(string) en kommagetallen in te bewaren. Zoals:\n",
    "\n",
    "```python\n",
    "getal = 12\n",
    "naam = \"Henk\"\n",
    "som = 13 * getal\n",
    "```\n",
    "\n",
    "Maar je kunt ook meerdere waarden in een variabele zetten. Bekijk eens de volgende code:\n",
    "```python\n",
    "getallenLijst = [13, 54, 32, 21, 55]\n",
    "namenLijst = [\"Henk\", \"Piet\", \"Sjaak\", \"Armin\"]\n",
    "```\n",
    "\n",
    "Dit noemen we _lijsten_. Je zet een lijst tussen blokhaken [] en je gebruikt een komma om meerdere waarden op te geven.\n",
    "\n",
    "Je kunt een lijst uitprinten door de volgende regel uit te voeren:\n",
    "```python\n",
    "print (getallenLijst)\n",
    "```\n",
    "Hieronder een voorbeeld:"
   ]
  },
  {
   "cell_type": "code",
   "execution_count": 2,
   "metadata": {},
   "outputs": [
    {
     "name": "stdout",
     "output_type": "stream",
     "text": [
      "[13, 54, 32, 21, 55]\n",
      "['Henk', 'Piet', 'Sjaak', 'Armin']\n"
     ]
    }
   ],
   "source": [
    "getallenLijst = [13, 54, 32, 21, 55]\n",
    "namenLijst = [\"Henk\", \"Piet\", \"Sjaak\", \"Armin\"]\n",
    "print (getallenLijst)\n",
    "print (namenLijst)"
   ]
  },
  {
   "cell_type": "markdown",
   "metadata": {},
   "source": [
    "Maar je kunt ook een specifiek element uit de lijst uitprinten. Stel dat je het derde getal uit de getallenLijst wilt printen dan doe je dat zo:"
   ]
  },
  {
   "cell_type": "code",
   "execution_count": 5,
   "metadata": {},
   "outputs": [
    {
     "name": "stdout",
     "output_type": "stream",
     "text": [
      "32\n"
     ]
    }
   ],
   "source": [
    "print (getallenLijst[2])"
   ]
  },
  {
   "cell_type": "markdown",
   "metadata": {},
   "source": [
    "Je krijgt dus het getal 32 te zien. Je geeft dus tussen blokhaken aan welk element je wilt hebben. Maar wacht eens even! Moest er dan niet getallenLijst[3] staan? Nee … de eerste index in een lijst is index 0! Zie ook in de tabel hieronder:\n",
    "\n",
    "<img src=\"files/Lijstindexen.png\">\n",
    "\n",
    "Zo kun je ook loopen door een lijst:"
   ]
  },
  {
   "cell_type": "code",
   "execution_count": 3,
   "metadata": {},
   "outputs": [
    {
     "name": "stdout",
     "output_type": "stream",
     "text": [
      "We hebben nu 13\n",
      "We hebben nu 54\n",
      "We hebben nu 32\n",
      "We hebben nu 21\n",
      "We hebben nu 55\n"
     ]
    }
   ],
   "source": [
    "for getal in getallenLijst:\n",
    "  print (\"We hebben nu\", getal)"
   ]
  },
  {
   "cell_type": "markdown",
   "metadata": {},
   "source": [
    "Merk op, dat de loops die we eerder maakten met ```range()``` ook met lijsten werkten. De functie ```range()``` maakte voor ons namelijk een lijst aan. Het resultaat van ```range(10)``` is dus ```[0, 1, 2, 3, 4, 5, 6, 7, 8, 9]```\n",
    "\n",
    "\n",
    "Een veelgemaakte fout\n",
    "De volgende code levert een foutmelding op:"
   ]
  },
  {
   "cell_type": "code",
   "execution_count": 4,
   "metadata": {},
   "outputs": [
    {
     "ename": "IndexError",
     "evalue": "list index out of range",
     "output_type": "error",
     "traceback": [
      "\u001b[0;31m---------------------------------------------------------------------------\u001b[0m",
      "\u001b[0;31mIndexError\u001b[0m                                Traceback (most recent call last)",
      "\u001b[0;32m<ipython-input-4-5e0a49ce4bfa>\u001b[0m in \u001b[0;36m<module>\u001b[0;34m()\u001b[0m\n\u001b[1;32m      1\u001b[0m \u001b[0mgetallenLijst\u001b[0m \u001b[0;34m=\u001b[0m \u001b[0;34m[\u001b[0m\u001b[0;36m13\u001b[0m\u001b[0;34m,\u001b[0m \u001b[0;36m54\u001b[0m\u001b[0;34m,\u001b[0m \u001b[0;36m32\u001b[0m\u001b[0;34m,\u001b[0m \u001b[0;36m21\u001b[0m\u001b[0;34m,\u001b[0m \u001b[0;36m55\u001b[0m\u001b[0;34m]\u001b[0m\u001b[0;34m\u001b[0m\u001b[0m\n\u001b[0;32m----> 2\u001b[0;31m \u001b[0mprint\u001b[0m \u001b[0;34m(\u001b[0m\u001b[0mgetallenLijst\u001b[0m\u001b[0;34m[\u001b[0m\u001b[0;36m5\u001b[0m\u001b[0;34m]\u001b[0m\u001b[0;34m)\u001b[0m\u001b[0;34m\u001b[0m\u001b[0m\n\u001b[0m",
      "\u001b[0;31mIndexError\u001b[0m: list index out of range"
     ]
    }
   ],
   "source": [
    "getallenLijst = [13, 54, 32, 21, 55]\n",
    "print (getallenLijst[5])"
   ]
  },
  {
   "cell_type": "markdown",
   "metadata": {},
   "source": [
    "Index 5 bestaat namelijk niet voor getallenLijst. Het laatste getal is 55 en staat op index 4. Vandaar de foutmelding list index out of range.\n",
    "\n",
    "### De lengte van een lijst\n",
    "Als je de lengte van een lijst list wilt berekenen dan kun je hier ```len(list)``` voor gebruiken. Zie hieronder:"
   ]
  },
  {
   "cell_type": "code",
   "execution_count": 5,
   "metadata": {},
   "outputs": [
    {
     "name": "stdout",
     "output_type": "stream",
     "text": [
      "5\n"
     ]
    }
   ],
   "source": [
    "getallenLijst = [13, 54, 32, 21, 55]\n",
    "print (len(getallenLijst))"
   ]
  },
  {
   "cell_type": "markdown",
   "metadata": {},
   "source": [
    "Je zult merken dat Python ontwikkelaars al veel van dit soort handige functies hebben gemaakt zodat jij het wiel niet twee keer hoeft uit te vinden. In de rest van de lesbrief ga je ook al kennismaken met een aantal van dit soort functies.\n",
    "\n",
    "### Opdrachten\n",
    "_Opdracht 1_\n",
    "Schrijf een functie middle(L) met als argument een lijst ```L```, en dat het element teruggeeft dat de midden (middle) positie inneemt in ```L```. (Om zeker te weten dat het midden bestaat, moet je aannemen dat L een oneven lengte heeft.) Dus geeft ```middle([8, 0, 100, 12, 1])``` het getal 100 terug, want het staat precies in het midden van de lijst.\n",
    "\n",
    "_Opdracht 2_\n",
    "Maak een functie genaamd ```laatsteWaarde(lijst)``` die een lijst als argument meekrijgt. Print vervolgens het laatste element uit de lijst uit. Je moet er vanuit gaan dat de lengte van de lijst niet vaststaat. Maak handig gebruik van de functie ```len()```. Test je functie met de volgende lijsten:\n",
    "```python\n",
    "getallenLijst = [13, 54, 32, 21, 55]\n",
    "namenLijst = [\"Henk\", \"Piet\", \"Sjaak\", \"Armin\"]\n",
    "```\n"
   ]
  },
  {
   "cell_type": "markdown",
   "metadata": {},
   "source": [
    "## Lijsten en strings\n",
    "Wellicht heb je al opgemerkt dat lijsten heel erg veel lijken op strings. Dat klopt ook want lijsten en strings hebben inderdaad veel gemeenschappelijk: het zijn beiden  \"rij types\" in Python. Een belangrijk verschil is dat de individuele karakters in strings niet kunnen worden aangepast. Kijk maar eens:\n"
   ]
  },
  {
   "cell_type": "code",
   "execution_count": 6,
   "metadata": {},
   "outputs": [
    {
     "name": "stdout",
     "output_type": "stream",
     "text": [
      "slack l\n"
     ]
    },
    {
     "ename": "TypeError",
     "evalue": "'str' object does not support item assignment",
     "output_type": "error",
     "traceback": [
      "\u001b[0;31m---------------------------------------------------------------------------\u001b[0m",
      "\u001b[0;31mTypeError\u001b[0m                                 Traceback (most recent call last)",
      "\u001b[0;32m<ipython-input-6-1ccb8399cd7b>\u001b[0m in \u001b[0;36m<module>\u001b[0;34m()\u001b[0m\n\u001b[1;32m      1\u001b[0m \u001b[0mwoord\u001b[0m\u001b[0;34m=\u001b[0m\u001b[0;34m'slack'\u001b[0m\u001b[0;34m\u001b[0m\u001b[0m\n\u001b[1;32m      2\u001b[0m \u001b[0mprint\u001b[0m\u001b[0;34m(\u001b[0m\u001b[0mwoord\u001b[0m\u001b[0;34m,\u001b[0m \u001b[0mwoord\u001b[0m\u001b[0;34m[\u001b[0m\u001b[0;36m1\u001b[0m\u001b[0;34m]\u001b[0m\u001b[0;34m)\u001b[0m\u001b[0;34m\u001b[0m\u001b[0m\n\u001b[0;32m----> 3\u001b[0;31m \u001b[0mwoord\u001b[0m\u001b[0;34m[\u001b[0m\u001b[0;36m1\u001b[0m\u001b[0;34m]\u001b[0m\u001b[0;34m=\u001b[0m\u001b[0;34m'n'\u001b[0m \u001b[0;31m# dit mag niet\u001b[0m\u001b[0;34m\u001b[0m\u001b[0m\n\u001b[0m\u001b[1;32m      4\u001b[0m \u001b[0mprint\u001b[0m \u001b[0;34m(\u001b[0m\u001b[0mwoord\u001b[0m\u001b[0;34m)\u001b[0m\u001b[0;34m\u001b[0m\u001b[0m\n",
      "\u001b[0;31mTypeError\u001b[0m: 'str' object does not support item assignment"
     ]
    }
   ],
   "source": [
    "woord='slack'\n",
    "print(woord, woord[1])\n",
    "woord[1]='n' # dit mag niet\n",
    "print (woord)"
   ]
  },
  {
   "cell_type": "markdown",
   "metadata": {},
   "source": [
    "Met lijsten zou dit natuurlijk wel goed gaan. We maken een lijst van letters:"
   ]
  },
  {
   "cell_type": "code",
   "execution_count": 7,
   "metadata": {},
   "outputs": [
    {
     "name": "stdout",
     "output_type": "stream",
     "text": [
      "['s', 'n', 'a', 'c', 'k']\n"
     ]
    }
   ],
   "source": [
    "woord=['s','l', 'a', 'c', 'k']\n",
    "woord[1]='n'\n",
    "print (woord)"
   ]
  },
  {
   "cell_type": "markdown",
   "metadata": {},
   "source": [
    "_Daarom worden lijsten veranderbaar(mutable) genoemd en strings onveranderbaar(immutable)._"
   ]
  },
  {
   "cell_type": "markdown",
   "metadata": {},
   "source": [
    "## Samenvoegen\n",
    "Met de Python-1 module heb je geleerd dat je + kunt gebruiken om twee strings samen te voegen (concatenate). Hetzelfde kan met lijsten:"
   ]
  },
  {
   "cell_type": "code",
   "execution_count": 8,
   "metadata": {},
   "outputs": [
    {
     "name": "stdout",
     "output_type": "stream",
     "text": [
      "6\n",
      "[3, 12, 7, 4, 2, 1]\n"
     ]
    }
   ],
   "source": [
    "lijstA = [3, 12, 7]\n",
    "lijstB = [4, 2, 1]\n",
    "lijstC = lijstA + lijstB\n",
    "print(len(lijstC))\n",
    "print(lijstC)"
   ]
  },
  {
   "cell_type": "markdown",
   "metadata": {},
   "source": [
    "Je kun het symbool * voor vermenigvuldigen gebruiken om een lijst herhaald uit te breiden. Dit is nuttig om een nieuwe lijst te maken van een gewenste lengte."
   ]
  },
  {
   "cell_type": "code",
   "execution_count": 9,
   "metadata": {},
   "outputs": [
    {
     "name": "stdout",
     "output_type": "stream",
     "text": [
      "[9, 6, 7, 1, 1, 1, 1]\n",
      "[0, 0, 0, 0, 0, 0, 0, 0, 0, 0, 0, 0, 0, 0, 0, 0, 0, 0, 0, 0]\n"
     ]
    }
   ],
   "source": [
    "telefoonNummer = [9, 6, 7] + [1]*4\n",
    "print(telefoonNummer)\n",
    "nullenLijst = [0]*20\n",
    "print(nullenLijst)"
   ]
  },
  {
   "cell_type": "markdown",
   "metadata": {},
   "source": [
    "### Opdrachten\n",
    "Opdracht 3\n",
    "Schrijf een functie kwadraten(n) die als invoer een positief geheel getal n heeft en als resultaat de eerste n kwadraten teruggeeft. Dus kwadraten(5) geeft terug: [1, 4, 9, 16, 25]\n",
    "\n",
    "## Einde van de lijst: negatieve indexen\n",
    "Tot nu toe heb je indexen gebruikt waarbij je uitgaat van index 0 voor de allereerste waarde. En van daaruit kies je bijvoorbeeld de 5de, 10de of 13de waarde uit lijst. Je kunt echter ook redeneren vanuit het einde van de lijst. Dan werk je met negatieve indexen. Zie maar eens het volgende plaatje:\n",
    "<img src=\"files/LijstNegatieveIndexen.png\">"
   ]
  },
  {
   "cell_type": "markdown",
   "metadata": {},
   "source": [
    "Om de waarde 55 te krijgen kun je lijstMetGetallen[4] doen, maar ook lijstMetGetallen[-1]. Kijk maar:"
   ]
  },
  {
   "cell_type": "code",
   "execution_count": 10,
   "metadata": {},
   "outputs": [
    {
     "name": "stdout",
     "output_type": "stream",
     "text": [
      "55\n",
      "55\n"
     ]
    }
   ],
   "source": [
    "lijstMetGetallen = [13,54,32,21,55]\n",
    "\n",
    "print (lijstMetGetallen[4])\n",
    "print (lijstMetGetallen[-1])"
   ]
  },
  {
   "cell_type": "markdown",
   "metadata": {},
   "source": [
    "Als je dit had geweten had je de opdracht waarbij je de functie laatsteWaarde(lijst) had moeten maken ook veel makkelijker kunnen doen :)\n",
    "\n",
    "Die negatieve indexen werken trouwens ook voor strings!\n",
    "\n",
    "### Uitdaging Opdracht Palindroom\n",
    "Een palindroom is een woord dat gespeld van voren naar achteren hetzelfde is als van achteren naar voren. Bijvoorbeeld het engelse woord, racecar is een palindroom: de eerste en de laatste letter (r) zijn hetzelfde, de tweede en de op de twee na laatste letter (a) zijn hetzelfde, enz. Schrijf een functie isPalindrome(S) dat een string S als invoer, and True teruggeeft wanneer de string een palindroom is en False wanneer dat niet het geval is.\n",
    "\n",
    "## Max en sum\n",
    "De functie max() die we eerder hebben gezien kan ook worden toegepast op een lijst met getallen: het geeft het grootste getal in de lijst terug. Zo ook geeft de functie sum() de optelling van alle waarden in de lijst terug."
   ]
  },
  {
   "cell_type": "code",
   "execution_count": 11,
   "metadata": {},
   "outputs": [
    {
     "name": "stdout",
     "output_type": "stream",
     "text": [
      "Het grootste getal in de lijst is:  55\n",
      "De optelling van alle getallen in de lijst is:  175\n"
     ]
    }
   ],
   "source": [
    "lijstMetGetallen = [13,54,32,21,55]\n",
    "lijstMetTekst = [\"hoi\", \"dit\", \"is\", \"ook\", \"z\"]\n",
    "print (\"Het grootste getal in de lijst is: \", max(lijstMetGetallen))\n",
    "print (\"De optelling van alle getallen in de lijst is: \", sum(lijstMetGetallen))"
   ]
  },
  {
   "cell_type": "markdown",
   "metadata": {},
   "source": [
    "## Slicing\n",
    "Zoals je nog van lesbrief 6 van de Python-1 module weet, kun je gedeeltes uit een stuk tekst pakken middels slicing. Dit kun je ook doen voor lijsten. Hieronder een afbeelding waarop je dit ook kunt zien:\n",
    "<img src=\"files/Slicing.png\">\n"
   ]
  },
  {
   "cell_type": "markdown",
   "metadata": {},
   "source": [
    "We geven een voorbeeld waarbij je slicing met lijsten te zien krijgt:"
   ]
  },
  {
   "cell_type": "code",
   "execution_count": 13,
   "metadata": {},
   "outputs": [
    {
     "name": "stdout",
     "output_type": "stream",
     "text": [
      "['noot', 'mies']\n",
      "['noot', 'mies', 'tafel', 'henk']\n",
      "['aap', 'noot', 'mies']\n",
      "['mies', 'tafel', 'henk', 'sjaak']\n"
     ]
    }
   ],
   "source": [
    "lijst = [\"aap\", \"noot\", \"mies\", \"tafel\", \"henk\", \"sjaak\"]\n",
    "\n",
    "print (lijst[1:3])\n",
    "print (lijst[1:-1])\n",
    "print (lijst[0:3])\n",
    "print (lijst[2:])"
   ]
  },
  {
   "cell_type": "markdown",
   "metadata": {},
   "source": [
    "Een paar opmerkingen:\n",
    "* Je geeft tussen blokhaken twee indexen op: [begin:tot]. De tweede index is dus tot en niet tot en met. Dit is ook bij de functie range() het geval. Dus lijst[1:3] geeft de waarden voor index 1 en 2 terug.\n",
    "* Als je voor de beginindex of totindex geen getal opgeeft, dan rekent Python door tot het begin of het einde. Dus lijst[1:] geeft lijst[1], lijst[2], lijst[3] en lijst[4] terug.\n"
   ]
  },
  {
   "cell_type": "code",
   "execution_count": null,
   "metadata": {},
   "outputs": [],
   "source": []
  }
 ],
 "metadata": {
  "kernelspec": {
   "display_name": "Python 3",
   "language": "python",
   "name": "python3"
  },
  "language_info": {
   "codemirror_mode": {
    "name": "ipython",
    "version": 3
   },
   "file_extension": ".py",
   "mimetype": "text/x-python",
   "name": "python",
   "nbconvert_exporter": "python",
   "pygments_lexer": "ipython3",
   "version": "3.4.4"
  }
 },
 "nbformat": 4,
 "nbformat_minor": 2
}
