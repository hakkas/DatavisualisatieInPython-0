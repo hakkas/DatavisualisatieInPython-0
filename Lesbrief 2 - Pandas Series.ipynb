{
 "cells": [
  {
   "cell_type": "markdown",
   "metadata": {},
   "source": [
    "# Les 2: Pandas Series"
   ]
  },
  {
   "cell_type": "markdown",
   "metadata": {},
   "source": [
    "We gaan in deze module gebruik maken van de library pandas. Met pandas kun je vrijwel toveren met data! De pandas library bevat namelijk alles wat je nodig hebt om speciale berekeningen te doen over je data en dit op een duidelijke manier in een grafiek weer te geven. Als je met pandas aan de slag gaat moet je leren werken met twee belangrijke objecten :\n",
    "* pandas Series\n",
    "* pandas DataFrame\n",
    "\n",
    "We beginnen met de pandas Series …\n",
    "\n",
    "In de vorige les heb je leren werken met Python lijsten. Pandas Series is ook een lijst, maar dan een bijzondere! Laten we eerst zo'n Series maken:"
   ]
  },
  {
   "cell_type": "code",
   "execution_count": 11,
   "metadata": {
    "scrolled": true
   },
   "outputs": [
    {
     "name": "stdout",
     "output_type": "stream",
     "text": [
      "0     23\n",
      "1     43\n",
      "2    102\n",
      "3     76\n",
      "4      8\n",
      "5     98\n",
      "6     90\n",
      "dtype: int64\n"
     ]
    }
   ],
   "source": [
    "import pandas as pd\n",
    "\n",
    "sLijst = pd.Series([23,43,102,76,8,98,90])\n",
    "\n",
    "print (sLijst)"
   ]
  },
  {
   "cell_type": "markdown",
   "metadata": {},
   "source": [
    "Zoals je ziet krijg je bij het printen van een Series ook meteen de bijbehorende indexen te zien.\n",
    "\n",
    "Je kunt net als met lijsten een specifieke index uitprinten:"
   ]
  },
  {
   "cell_type": "code",
   "execution_count": 12,
   "metadata": {},
   "outputs": [
    {
     "data": {
      "text/plain": [
       "76"
      ]
     },
     "execution_count": 12,
     "metadata": {},
     "output_type": "execute_result"
    }
   ],
   "source": [
    "sLijst[3]"
   ]
  },
  {
   "cell_type": "markdown",
   "metadata": {},
   "source": [
    "Je kunt natuurlijk ook de eerste vier getallen uitprinten:"
   ]
  },
  {
   "cell_type": "code",
   "execution_count": 13,
   "metadata": {},
   "outputs": [
    {
     "data": {
      "text/plain": [
       "0     23\n",
       "1     43\n",
       "2    102\n",
       "dtype: int64"
      ]
     },
     "execution_count": 13,
     "metadata": {},
     "output_type": "execute_result"
    }
   ],
   "source": [
    "sLijst[0:3]"
   ]
  },
  {
   "cell_type": "markdown",
   "metadata": {},
   "source": [
    "## Rekenen met Series\n",
    "\n",
    "Je kunt heel handig rekenen met Series. Stel dat je een Series van getallen hebt en je wilt alle getallen vermenigvuldigen met 3. Dan kan dat heel makkelijk:"
   ]
  },
  {
   "cell_type": "code",
   "execution_count": 14,
   "metadata": {},
   "outputs": [
    {
     "data": {
      "text/plain": [
       "0     69\n",
       "1    129\n",
       "2    306\n",
       "3    228\n",
       "4     24\n",
       "5    294\n",
       "6    270\n",
       "dtype: int64"
      ]
     },
     "execution_count": 14,
     "metadata": {},
     "output_type": "execute_result"
    }
   ],
   "source": [
    "sLijst * 3"
   ]
  },
  {
   "cell_type": "markdown",
   "metadata": {},
   "source": [
    "Lekker handig hè, die pandas library!"
   ]
  },
  {
   "cell_type": "markdown",
   "metadata": {},
   "source": [
    "## Optellen, aftrekken, vermenigvuldigen en delen\n",
    "Je kunt zelfs twee lijsten bij elkaar optellen of door elkaar delen of met elkaar vermenigvuldigen. Probeer maar eens uit:"
   ]
  },
  {
   "cell_type": "code",
   "execution_count": 16,
   "metadata": {},
   "outputs": [
    {
     "name": "stdout",
     "output_type": "stream",
     "text": [
      "0     46\n",
      "1     86\n",
      "2    306\n",
      "3    152\n",
      "4      8\n",
      "5    392\n",
      "6    450\n",
      "dtype: int64\n"
     ]
    }
   ],
   "source": [
    "sNum = pd.Series([23,43,102,76,8,98,90])\n",
    "sNum2 = pd.Series([2,2,3,2,1,4,5])\n",
    "\n",
    "print(sNum * sNum2)"
   ]
  },
  {
   "cell_type": "markdown",
   "metadata": {},
   "source": [
    "_*LET OP*_: Als de twee Series niet even lang zijn dan wordt het resultaat aangevuld met NaN-waarden. NaN betekent Not a Number en wordt in pandas gebruikt voor een niet ingevulde waarde."
   ]
  },
  {
   "cell_type": "markdown",
   "metadata": {},
   "source": [
    "## Selectie\n",
    "Soms wil je maar een deel van je Series laten zien. Met Python lijsten kon je slicen. Dat kan ook met Series. Kijk maar eens:"
   ]
  },
  {
   "cell_type": "code",
   "execution_count": 18,
   "metadata": {},
   "outputs": [
    {
     "data": {
      "text/plain": [
       "0     23\n",
       "1     43\n",
       "2    102\n",
       "dtype: int64"
      ]
     },
     "execution_count": 18,
     "metadata": {},
     "output_type": "execute_result"
    }
   ],
   "source": [
    "sNum[0:3]"
   ]
  },
  {
   "cell_type": "markdown",
   "metadata": {},
   "source": [
    "Of we selecteren de laatste drie elementen uit de Series:"
   ]
  },
  {
   "cell_type": "code",
   "execution_count": 26,
   "metadata": {},
   "outputs": [
    {
     "data": {
      "text/plain": [
       "4     8\n",
       "5    98\n",
       "6    90\n",
       "dtype: int64"
      ]
     },
     "execution_count": 26,
     "metadata": {},
     "output_type": "execute_result"
    }
   ],
   "source": [
    "sNum[-3:]"
   ]
  },
  {
   "cell_type": "markdown",
   "metadata": {},
   "source": [
    "Maar we kunnen meer. Stel dat je alle getallen die groter dan 30 zijn wilt selecteren?\n",
    "\n",
    "Dit kun je met pandas heel erg eenvoudig. Kijk maar eens!"
   ]
  },
  {
   "cell_type": "code",
   "execution_count": 27,
   "metadata": {},
   "outputs": [
    {
     "data": {
      "text/plain": [
       "1     43\n",
       "2    102\n",
       "3     76\n",
       "5     98\n",
       "6     90\n",
       "dtype: int64"
      ]
     },
     "execution_count": 27,
     "metadata": {},
     "output_type": "execute_result"
    }
   ],
   "source": [
    "sNum[sNum > 30]"
   ]
  },
  {
   "cell_type": "markdown",
   "metadata": {},
   "source": [
    "De uitdrukking ```sNum > 30``` levert een Series op met boolean waarden. Deze wordt hierboven gebruikt als selectie van ```sNum```. Je kunt ```sNum > 30``` ook gewoon printen."
   ]
  },
  {
   "cell_type": "code",
   "execution_count": 28,
   "metadata": {},
   "outputs": [
    {
     "data": {
      "text/plain": [
       "0    False\n",
       "1     True\n",
       "2     True\n",
       "3     True\n",
       "4    False\n",
       "5     True\n",
       "6     True\n",
       "dtype: bool"
      ]
     },
     "execution_count": 28,
     "metadata": {},
     "output_type": "execute_result"
    }
   ],
   "source": [
    "sNum > 30"
   ]
  },
  {
   "cell_type": "markdown",
   "metadata": {},
   "source": [
    "## Selectie met meerdere voorwaarden\n",
    "Je kunt zelfs aangeven dat je alle getallen tussen 30 en 50 wilt hebben. Dat doe je met de ```&``` (betekent ```AND```). De regel ```sNum[(sNum > 30) & (sNum < 50)]``` betekent dus: Als sNum groter is dan 30 en ook kleiner dan 50, dan selecteren we hem. Kijk maar eens:"
   ]
  },
  {
   "cell_type": "code",
   "execution_count": 29,
   "metadata": {},
   "outputs": [
    {
     "data": {
      "text/plain": [
       "1    43\n",
       "dtype: int64"
      ]
     },
     "execution_count": 29,
     "metadata": {},
     "output_type": "execute_result"
    }
   ],
   "source": [
    "sNum[(sNum > 30) & (sNum < 50)]"
   ]
  },
  {
   "cell_type": "markdown",
   "metadata": {},
   "source": [
    "### Opdracht\n",
    "Geef de code waarmee je alle getallen, die kleiner dan 20 of groter dan 100 zijn, in een Series zet. Print de Series uit.\n",
    "\n",
    "*TIP*: Naast de & (and) hebben we ook de | (or). Deze | heb je nodig om de opgave te kunnen maken."
   ]
  },
  {
   "cell_type": "markdown",
   "metadata": {},
   "source": [
    "## Functies voor het samenvatten van een Series\n",
    "Pandas heeft een aantal superhandige functies dat je kunt gebruiken om bijvoorbeeld het gemiddelde van een Series met getallen te berekenen. Dit doe je met de functie ```mean()```"
   ]
  },
  {
   "cell_type": "code",
   "execution_count": 31,
   "metadata": {},
   "outputs": [
    {
     "name": "stdout",
     "output_type": "stream",
     "text": [
      "Het gemiddelde is 62.857142857142854\n"
     ]
    }
   ],
   "source": [
    "print (\"Het gemiddelde is\", sNum.mean())"
   ]
  },
  {
   "cell_type": "markdown",
   "metadata": {},
   "source": [
    "Naast de functie mean() heb je ook de volgende functies:\n",
    "\n",
    "| functie | Betekenis      |\n",
    "|---------|--------------------------------------------|\n",
    "| count() | Geeft het aantal waarden in de Series      |\n",
    "| sum()   | Telt de waarden in de Series bij elkaar op |\n",
    "| min()   | Pakt de minimumwaarde uit de Series        |\n",
    "| max()   | Pakt de maximumwaarde uit de Series        |"
   ]
  },
  {
   "cell_type": "markdown",
   "metadata": {},
   "source": [
    "### Opdracht\n",
    "Henk heeft tot nu toe de volgende cijfers behaald: 6, 7, 8, 4, 5.5, 6.5, 7, 2, 5, 4, 3, 8, 9, 9.8, 9.7, 9.4, 2, 5, 7, 8, 6.2, 5.7, 8, 9\n",
    "\n",
    "Schrijf een programma waarbij je een pandas Series maakt met deze cijfers erin. Vervolgens de volgende gegevens uitprint (Python moet ze allemaal berekenen):\n",
    "* Hoeveel cijfers heeft hij behaald?\n",
    "* Wat is het gemiddelde van al zijn cijfers?\n",
    "* Wat is het laagste cijfer dat hij ooit heeft gehaald?\n",
    "* Wat is het hoogste cijfer dat hij ooit heeft gehaald?\n",
    "\n",
    "## Loopen door een pandas Series\n",
    "Je kunt ook vrij eenvoudig loopen door een pandas Series lijst. Hieronder een voorbeeld:"
   ]
  },
  {
   "cell_type": "code",
   "execution_count": 2,
   "metadata": {},
   "outputs": [
    {
     "name": "stdout",
     "output_type": "stream",
     "text": [
      "Element:  23\n",
      "Element:  43\n",
      "Element:  102\n",
      "Element:  76\n",
      "Element:  8\n",
      "Element:  98\n",
      "Element:  90\n"
     ]
    }
   ],
   "source": [
    "import pandas as pd\n",
    "sNum = pd.Series([23,43,102,76,8,98,90])\n",
    "for item in sNum:\n",
    "       print (\"Element: \", item)"
   ]
  },
  {
   "cell_type": "code",
   "execution_count": null,
   "metadata": {},
   "outputs": [],
   "source": []
  }
 ],
 "metadata": {
  "kernelspec": {
   "display_name": "Python 3",
   "language": "python",
   "name": "python3"
  },
  "language_info": {
   "codemirror_mode": {
    "name": "ipython",
    "version": 3
   },
   "file_extension": ".py",
   "mimetype": "text/x-python",
   "name": "python",
   "nbconvert_exporter": "python",
   "pygments_lexer": "ipython3",
   "version": "3.5.4"
  }
 },
 "nbformat": 4,
 "nbformat_minor": 2
}
